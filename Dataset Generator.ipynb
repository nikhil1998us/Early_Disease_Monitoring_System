{
 "cells": [
  {
   "cell_type": "code",
   "execution_count": 1,
   "metadata": {},
   "outputs": [],
   "source": [
    "import numpy as np\n",
    "import os"
   ]
  },
  {
   "cell_type": "code",
   "execution_count": 2,
   "metadata": {},
   "outputs": [],
   "source": [
    "#finds difference in number of days between two dates\n",
    "#helper function for month_days\n",
    "def month_days(month,year):\n",
    "    days={1:31,2:28,3:31,4:30,5:31,6:30,7:31,8:31,9:30,10:31,11:30,12:31}\n",
    "    if year%4==0 or year%400==0 :\n",
    "        days[2]+=1\n",
    "    return days[month]"
   ]
  },
  {
   "cell_type": "code",
   "execution_count": 3,
   "metadata": {},
   "outputs": [
    {
     "name": "stdout",
     "output_type": "stream",
     "text": [
      "19\n"
     ]
    }
   ],
   "source": [
    "#finding number of days between 2 dates\n",
    "def day_diff(dstart_date,dend_date):\n",
    "    start_date=dstart_date[:]\n",
    "    end_date=dend_date[:]\n",
    "    days=0\n",
    "    while(end_date[0]-start_date[0]>1):\n",
    "        if(start_date[0]%4==0 | start_date[0]%400==0):\n",
    "            days+=366\n",
    "        else:\n",
    "            days+=365\n",
    "        start_date[0]+=1\n",
    "    if(end_date[0]>start_date[0]):\n",
    "        days+=month_days(start_date[1],start_date[0])-start_date[2]+1\n",
    "        start_date[1]+=1\n",
    "        start_date[2]=1\n",
    "        while(start_date[1]<=12):\n",
    "            days+=month_days(start_date[1],start_date[0])\n",
    "            start_date[1]+=1\n",
    "        start_date[1]=1\n",
    "        start_date[0]+=1\n",
    "    if(end_date[1]>start_date[1]):\n",
    "        days+=month_days(start_date[1],start_date[0])-start_date[2]+1\n",
    "        start_date[1]+=1\n",
    "        start_date[2]=1\n",
    "    while(end_date[1]-start_date[1]>1):\n",
    "        days+=month_days(start_date[1],start_date[0])\n",
    "        start_date[1]+=1\n",
    "    if(end_date[1]>start_date[1]):\n",
    "        days+=month_days(start_date[1],start_date[0])-start_date[2]+1\n",
    "        start_date[1]+=1\n",
    "        start_date[2]=1\n",
    "    days+=end_date[2]-start_date[2]\n",
    "    return days\n",
    "print(day_diff([2020,1,10],[2020,1,29]))   "
   ]
  },
  {
   "cell_type": "code",
   "execution_count": 4,
   "metadata": {},
   "outputs": [
    {
     "data": {
      "text/plain": [
       "[2020, 2, 29]"
      ]
     },
     "execution_count": 4,
     "metadata": {},
     "output_type": "execute_result"
    }
   ],
   "source": [
    "#incrementing a date by a number of days\n",
    "def day_inc(start_date,days):\n",
    "    m_days_left=month_days(start_date[1],start_date[0])-start_date[2]\n",
    "    if m_days_left<days:\n",
    "        start_date[1]+=1\n",
    "        start_date[2]=1\n",
    "        days-=m_days_left+1\n",
    "        if(start_date[1]>12):\n",
    "            start_date[0]+=1\n",
    "            start_date[1]=1\n",
    "        return day_inc(start_date,days)\n",
    "    else:\n",
    "        start_date[2]+=days\n",
    "        days=0\n",
    "    #final date or end date is returned below\n",
    "    return start_date\n",
    "day_inc([2019,12,31],60)"
   ]
  },
  {
   "cell_type": "code",
   "execution_count": 5,
   "metadata": {},
   "outputs": [],
   "source": [
    "#creates symptoms for patients from a predefined dataset\n",
    "#helper function for result_generator\n",
    "def symptom_generator():\n",
    "    symptoms=['cough','fever','sore_throat','pneumonia','diarheaa','fatigue','muscle_pain','shivering','dizziness']\n",
    "    l=len(symptoms)\n",
    "    prob=np.random.randint(5,size=l)\n",
    "    arr=['discomfort']\n",
    "    for i in range(l):\n",
    "        if(prob[i]>2):\n",
    "            arr.append(symptoms[i])\n",
    "    return arr"
   ]
  },
  {
   "cell_type": "code",
   "execution_count": 6,
   "metadata": {},
   "outputs": [
    {
     "data": {
      "text/plain": [
       "[4, -1, ['discomfort', 'fever', 'muscle_pain', 'shivering']]"
      ]
     },
     "execution_count": 6,
     "metadata": {},
     "output_type": "execute_result"
    }
   ],
   "source": [
    "#generates result of diagnosis with number of days, basically creates a patient\n",
    "#then creates their symptoms, based on severity of symptoms creates a probability based death or survival\n",
    "#flag=1-dead,0-healed,-1-unresolved\n",
    "def result_generator(start_date,datecap):\n",
    "    symptoms=symptom_generator()\n",
    "    severity={'discomfort':0.0,'cough':0.001,'fever':0.001,'sore_throat':0.0005,'pneumonia':0.055,'diarheaa':0.005,'fatigue':0.005,'muscle_pain':0.005,'shivering':0.007,'dizziness':0.016}\n",
    "    sevsum=0\n",
    "    for sym in symptoms:\n",
    "        sevsum+=severity[sym]\n",
    "    persistence=sevsum*8\n",
    "    healprob=(1-sevsum-persistence)\n",
    "    #healingprobability in a day and severity sum must be quite low compared to persistence for disease to last long\n",
    "    #hence the modifications below\n",
    "    healprob=healprob/5.0\n",
    "    sevsum=sevsum/5.0\n",
    "    persistence=persistence/5.0+0.8\n",
    "    flag=-1\n",
    "    num=0\n",
    "    while num<datecap:\n",
    "        r=np.random.random()\n",
    "        num+=1\n",
    "        if(r<healprob):\n",
    "            flag=0\n",
    "            break\n",
    "        elif(r>1-sevsum):\n",
    "            flag=1\n",
    "            break\n",
    "    return [num-1,flag,symptoms]\n",
    "result_generator([2019,12,31],5)"
   ]
  },
  {
   "cell_type": "code",
   "execution_count": 7,
   "metadata": {},
   "outputs": [
    {
     "name": "stdout",
     "output_type": "stream",
     "text": [
      "2\n"
     ]
    }
   ],
   "source": [
    "#simulates a slightly random exponential rise in numbers based on an iter number\n",
    "#the m_param here is equal to e^(ln(Ro)/I)\n",
    "#where Ro is the reproduction number and I is the incubation period average.\n",
    "#this m_param is the factor by which the cases grow daily\n",
    "#Max_Cap is added here as regions with more population usually have a larger density.\n",
    "#Hence higher rate of infection\n",
    "def exp_pat_num_gen(iternum,m_param,Max_Cap):\n",
    "    n=(m_param**iternum)\n",
    "    return int(2*n/3.0+np.random.random()*2*n/3.0)\n",
    "print(exp_pat_num_gen(7,1.1,200))"
   ]
  },
  {
   "cell_type": "code",
   "execution_count": 8,
   "metadata": {},
   "outputs": [],
   "source": [
    "#generates patient list for a hospital with a hidden epidemic with provided Ro\n",
    "def pat_gen_hospital(start_date,end_date,Ro,file,start_prob,day_delay,min_pat,max_pat):\n",
    "    day_delay=day_diff(start_date,end_date)-day_delay-1\n",
    "    start_param=100.0*(1-start_prob)\n",
    "    days_run=day_diff(start_date,end_date)\n",
    "    todate=start_date\n",
    "    Max_cap=np.random.randint(min_pat,max_pat)\n",
    "    #print(\"Capacity of hospital %d\"%Max_cap)\n",
    "    file.write(\"#Capacity of hospital %d\\n\"%Max_cap)\n",
    "    flag=0\n",
    "    i=0\n",
    "    patient_arr=[]\n",
    "    patient_num=1\n",
    "    exp_count=0\n",
    "    for i in range(days_run):\n",
    "        daily_add=np.random.randint(1,1+Max_cap/8)\n",
    "        #IMPRORTANT\n",
    "        #set np.random.random()*100>100 if you dont want an epidemic\n",
    "        #set np.random.random()*100>0 if you want the epidemic to start immediately at set date\n",
    "        #set i>n days where n is a number of days to delay the start of the epidemic\n",
    "        #make sure you adjust the start of the epidemic appropriately\n",
    "        #can also be set at the function in the end\n",
    "        if(flag==1):\n",
    "            daily_add+=exp_pat_num_gen(exp_count,Ro,Max_cap)\n",
    "            exp_count+=1\n",
    "        elif flag==0 and np.random.random()*100>start_param and i>=day_delay:\n",
    "            flag=1\n",
    "        for j in range(daily_add):\n",
    "            arr=[patient_num]+[todate]+ (result_generator(todate,days_run-i))\n",
    "            #print(\"arr\",arr)\n",
    "            for k in range(4):\n",
    "                if k==1:\n",
    "                    #print(\"running\")\n",
    "                    file.write(\"%d-%d-%d \"%(arr[1][0],arr[1][1],arr[1][2]))\n",
    "                else:\n",
    "                    file.write(\"%d \"%arr[k])\n",
    "            sym=arr[4]\n",
    "            for s in sym:\n",
    "                file.write(\"%s,\"%s)\n",
    "            file.write(\"\\n\")\n",
    "            #patient_arr.append(arr)\n",
    "            #print(patient_arr)\n",
    "            patient_num+=1\n",
    "        todate=day_inc(start_date,1)\n",
    "    #return patient_arr"
   ]
  },
  {
   "cell_type": "code",
   "execution_count": 9,
   "metadata": {},
   "outputs": [],
   "source": [
    "#print(pat_gen_hospital([2020,1,10],[2020,1,13],2))"
   ]
  },
  {
   "cell_type": "code",
   "execution_count": 10,
   "metadata": {},
   "outputs": [],
   "source": [
    "#makes num number of hospital entry between the start and end dates with a Ro and num is specified\n",
    "def hospital_gen(start_date,end_date,Ro,num,start_prob,day_delay,min_pat,max_pat):\n",
    "    if not os.path.exists('Hospitals'):\n",
    "        os.makedirs('Hospitals')\n",
    "    for i in range(num):\n",
    "        todate=start_date[:]\n",
    "        name=\".\\Hospitals\\hospital_\"+str(i+1)+\".txt\"\n",
    "        fw=open(name,'w')\n",
    "        pat_gen_hospital(todate,end_date,Ro,fw,start_prob,day_delay,min_pat,max_pat)\n",
    "        fw.close()\n",
    "    print(\"generated data\")"
   ]
  },
  {
   "cell_type": "code",
   "execution_count": 11,
   "metadata": {},
   "outputs": [],
   "source": [
    "#clears previously created hospital data\n",
    "def remove_files():\n",
    "    i=1\n",
    "    while(os.path.exists(\"./Hospitals/hospital_%d.txt\"%i)):\n",
    "        os.remove(\"./Hospitals/hospital_%d.txt\"%i)\n",
    "        i+=1\n",
    "remove_files()"
   ]
  },
  {
   "cell_type": "code",
   "execution_count": 15,
   "metadata": {},
   "outputs": [
    {
     "name": "stdout",
     "output_type": "stream",
     "text": [
      "generated data\n"
     ]
    }
   ],
   "source": [
    "#parameters are in the folowing order\n",
    "#1)start date of data simulation\n",
    "#2)end date\n",
    "#3)growth parameter (not Ro)\n",
    "#4)number of hospitals/taluks to be simulated\n",
    "#5)probability of epidemic. set it to 1 if you want the epidemic for sure and 0 for no epidemic\n",
    "#6)days before the end date to which we delay start of epidemic, after that it starts with the previous probability\n",
    "#7)minimum capacity of each entity hospital or taluk\n",
    "#8)maximum capacity\n",
    "hospital_gen([2020,1,25],[2020,4,30],1.10,62,1.0,90,50,250)"
   ]
  },
  {
   "cell_type": "code",
   "execution_count": null,
   "metadata": {},
   "outputs": [],
   "source": []
  },
  {
   "cell_type": "code",
   "execution_count": null,
   "metadata": {},
   "outputs": [],
   "source": []
  }
 ],
 "metadata": {
  "kernelspec": {
   "display_name": "Python 3",
   "language": "python",
   "name": "python3"
  },
  "language_info": {
   "codemirror_mode": {
    "name": "ipython",
    "version": 3
   },
   "file_extension": ".py",
   "mimetype": "text/x-python",
   "name": "python",
   "nbconvert_exporter": "python",
   "pygments_lexer": "ipython3",
   "version": "3.7.3"
  }
 },
 "nbformat": 4,
 "nbformat_minor": 2
}
