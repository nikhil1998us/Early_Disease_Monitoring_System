{
 "cells": [
  {
   "cell_type": "code",
   "execution_count": 13,
   "metadata": {},
   "outputs": [],
   "source": [
    "import numpy as np\n",
    "import matplotlib.pyplot as plt\n",
    "import csv\n",
    "import os"
   ]
  },
  {
   "cell_type": "code",
   "execution_count": 14,
   "metadata": {},
   "outputs": [
    {
     "data": {
      "text/plain": [
       "'\\nfor i in range(len(arr)):\\n    print(arr[i])\\n    '"
      ]
     },
     "execution_count": 14,
     "metadata": {},
     "output_type": "execute_result"
    }
   ],
   "source": [
    "#reading data from the hospital outputs to get the data for each hospital\n",
    "main_file=open(\"Compiled.txt\",'r')\n",
    "d={}\n",
    "arr=[]\n",
    "for line in main_file:\n",
    "    (key, val) = line.split()\n",
    "    d[key] = val\n",
    "    if(key=='Curr_occ_percent:'):\n",
    "        arr.append(d)\n",
    "        d={}\n",
    "'''\n",
    "for i in range(len(arr)):\n",
    "    print(arr[i])\n",
    "    '''"
   ]
  },
  {
   "cell_type": "code",
   "execution_count": 15,
   "metadata": {},
   "outputs": [],
   "source": [
    "#Making sure all parameters have some data value\n",
    "def fix_dat_not_found(arr):\n",
    "    for hosp in arr:\n",
    "        try:\n",
    "            x=hosp['3_m:']\n",
    "        except:\n",
    "            hosp['3_m:']=-1\n",
    "        try:\n",
    "            x=hosp['1_m:']\n",
    "        except:\n",
    "            hosp['1_m:']=-1\n",
    "        try:\n",
    "            x=hosp['1_w:']\n",
    "        except:\n",
    "            hosp['1_w:']=-1\n",
    "    return arr"
   ]
  },
  {
   "cell_type": "code",
   "execution_count": 16,
   "metadata": {},
   "outputs": [
    {
     "name": "stdout",
     "output_type": "stream",
     "text": [
      "[1.0, 1.0, 1.000003, 1.0, 1.000003, 1.0, 1.0, 1.000001, 1.0, 1.0, 1.0, 1.000011, 1.0, 1.0, 1.000001, 1.0, 1.0, 1.0, 1.0, 1.0, 1.000005, 1.0, 1.0, 1.000005, 1.0, 1.0, 1.000007, 1.0, 1.0, 1.0, 1.000001, 1.0, 1.0, 1.0, 1.000003, 1.0, 1.000004, 1.0, 1.000163, 1.0, 1.000002, 1.0, 1.0, 1.0, 1.000007, 1.0, 1.0, 1.0, 1.0, 1.0, 1.000002, 1.0, 1.0, 1.0, 1.000006, 1.0, 1.0, 1.0, 1.0, 1.000039, 1.000001, 1.0]\n",
      "[1.062372, 1.084782, 1.103137, 1.098335, 1.107825, 1.068048, 1.085298, 1.099518, 1.115841, 1.075728, 1.085289, 1.095664, 1.108408, 1.097035, 1.104503, 1.100034, 1.111136, 1.094989, 1.03523, 1.091945, 1.09019, 1.039698, 1.090453, 1.0973, 1.109542, 1.108609, 1.111559, 1.114262, 1.100496, 1.07886, 1.09771, 1.071096, 1.100405, 1.113812, 1.056837, 1.099638, 1.10388, 1.066269, 1.040423, 1.106899, 1.115416, 1.100938, 1.108233, 1.074531, 1.079691, 1.103069, 1.110957, 1.092343, 1.089571, 1.089948, 1.079176, 1.088267, 1.088852, 1.097198, 1.088568, 1.078746, 1.11832, 1.109672, 1.112893, 1.100136, 1.112318, 1.095534]\n",
      "[1.183774, 1.202199, 1.15109, 1.354824, 1.0, 1.02861, 1.0, 1.267655, 1.140059, 1.033228, 1.347845, 1.363769, 1.054372, 1.452733, 1.175631, 1.0, 1.146201, 1.086983, 1.0, 1.059638, 1.045824, 1.023362, 1.035776, 1.0, 1.301121, 1.222918, 1.123492, 1.088087, 1.122199, 1.0, 1.388701, 1.0, 1.161032, 1.228851, 1.0, 1.105583, 1.139016, 1.247525, 1.117345, 1.063986, 1.205871, 1.151852, 1.641056, 1.0, 1.030554, 1.262566, 1.073835, 1.581953, 1.377734, 1.271806, 1.371335, 1.28905, 1.108688, 1.080154, 1.240143, 1.038408, 1.145191, 1.067694, 1.07736, 1.0, 1.132649, 1.235898]\n",
      "[8557.0, 9482.0, 9455.0, 13935.0, 18518.0, 21420.0, 8992.0, 9286.0, 9595.0, 9000.0, 14911.0, 10013.0, 16320.0, 19396.0, 13901.0, 11021.0, 8643.0, 26793.0, 8862.0, 8873.0, 11863.0, 13658.0, 10609.0, 22324.0, 12303.0, 8922.0, 13996.0, 13310.0, 8215.0, 9516.0, 10885.0, 16510.0, 21911.0, 13219.0, 24580.0, 17057.0, 9136.0, 9152.0, 18946.0, 10767.0, 23678.0, 11812.0, 12422.0, 13277.0, 10175.0, 9003.0, 14974.0, 39162.0, 32346.0, 24451.0, 25489.0, 16285.0, 11413.0, 8154.0, 26047.0, 37727.0, 8354.0, 16926.0, 9499.0, 8723.0, 11640.0, 8798.0]\n"
     ]
    }
   ],
   "source": [
    "arr=fix_dat_not_found(arr)\n",
    "\n",
    "three_month=[]\n",
    "one_month=[]\n",
    "one_week=[]\n",
    "curr_occ=[]\n",
    "for ele in arr:\n",
    "    three_month.append(float(ele['3_m:']))\n",
    "    one_month.append(float(ele['1_m:']))\n",
    "    one_week.append(float(ele['1_w:']))\n",
    "    curr_occ.append(float(ele['Curr_occ_percent:']))\n",
    "print(three_month)\n",
    "print(one_month)\n",
    "print(one_week)\n",
    "print(curr_occ)\n",
    "ilen=len(three_month)\n",
    "if not os.path.exists('Simulations'):\n",
    "    os.makedirs('Simulations')\n",
    "with open('./Simulations/Testingrandom 90day.csv','w',newline='') as file:\n",
    "    writer=csv.writer(file)\n",
    "    writer.writerow(['No:','3 month','1 month','1 week','Patients num'])\n",
    "    for i in range(ilen):\n",
    "        writer.writerow([i+1,three_month[i],one_month[i],one_week[i],curr_occ[i]])"
   ]
  },
  {
   "cell_type": "code",
   "execution_count": 17,
   "metadata": {},
   "outputs": [],
   "source": [
    "#Code to help integrate with the plugins and visualize the maps in the browser.\n",
    "#This takes the array of the multiplicative parameter and adds it to the helper file for the map\n",
    "#opening index.html will then show the new map\n",
    "def addmapprop(file,attribute,valarr):\n",
    "    f=open(file,'r')\n",
    "    inp=f.readlines()\n",
    "    f.close()\n",
    "    l=len(inp)\n",
    "    print(\"length\",l)\n",
    "    i=0\n",
    "    while(inp[i].find(\"{ \\\"type\\\": \")!=0):\n",
    "        i+=1\n",
    "    arrpos=0\n",
    "    la=len(attribute)\n",
    "    while(inp[i].find(\"{ \\\"type\\\": \")==0):\n",
    "        if(inp[i].find(attribute)==-1):\n",
    "            posi=inp[i].find(\"\\\"ID_0\\\":\")\n",
    "            inp[i]=inp[i][0:posi]+attribute+str(valarr[arrpos])+\", \"+inp[i][posi:]\n",
    "        else:\n",
    "            posi=inp[i].find(attribute)\n",
    "            inp[i]=inp[i][0:posi+la]+str(valarr[arrpos])+inp[i][inp[i].find(\",\",posi+la):]\n",
    "        arrpos+=1\n",
    "        i+=1\n",
    "    #print(inp) \n",
    "    f=open(file,'w')\n",
    "    for ele in inp:\n",
    "        f.write(ele)\n",
    "    f.close()"
   ]
  },
  {
   "cell_type": "code",
   "execution_count": 18,
   "metadata": {},
   "outputs": [
    {
     "name": "stdout",
     "output_type": "stream",
     "text": [
      "length 69\n",
      "length 69\n",
      "length 69\n",
      "length 69\n"
     ]
    }
   ],
   "source": [
    "#Missing the \\\" here can mess up the files\n",
    "addmapprop('Keralataluk.js',\"\\\"exp_param3m\\\": \",three_month)\n",
    "addmapprop('Keralataluk.js',\"\\\"exp_param1m\\\": \",one_month)\n",
    "addmapprop('Keralataluk.js',\"\\\"exp_param1w\\\": \",one_week)\n",
    "addmapprop('Keralataluk.js',\"\\\"curr_occ\\\": \",curr_occ)"
   ]
  },
  {
   "cell_type": "code",
   "execution_count": null,
   "metadata": {},
   "outputs": [],
   "source": []
  },
  {
   "cell_type": "code",
   "execution_count": null,
   "metadata": {},
   "outputs": [],
   "source": []
  }
 ],
 "metadata": {
  "kernelspec": {
   "display_name": "Python 3",
   "language": "python",
   "name": "python3"
  },
  "language_info": {
   "codemirror_mode": {
    "name": "ipython",
    "version": 3
   },
   "file_extension": ".py",
   "mimetype": "text/x-python",
   "name": "python",
   "nbconvert_exporter": "python",
   "pygments_lexer": "ipython3",
   "version": "3.7.3"
  }
 },
 "nbformat": 4,
 "nbformat_minor": 2
}
