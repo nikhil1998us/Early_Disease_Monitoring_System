{
 "cells": [
  {
   "cell_type": "code",
   "execution_count": 21,
   "metadata": {},
   "outputs": [],
   "source": [
    "import numpy as np\n",
    "import datetime\n",
    "from urllib.request import urlopen\n",
    "import time\n",
    "import sys\n",
    "import math"
   ]
  },
  {
   "cell_type": "code",
   "execution_count": 22,
   "metadata": {},
   "outputs": [],
   "source": [
    "#IMPORTANT\n",
    "#if you want to run this to a custom date change loc_date at the\n",
    "#last block of code after the function assignment\n",
    "#the program will run for the three months before loc_date\n",
    "\n",
    "#finds difference in number of days between two dates\n",
    "#helper function for month_days\n",
    "def month_days(month,year):\n",
    "    days={1:31,2:28,3:31,4:30,5:31,6:30,7:31,8:31,9:30,10:31,11:30,12:31}\n",
    "    if year%4==0 or year%400==0 :\n",
    "        days[2]+=1\n",
    "    return days[month]\n",
    "#month_days(2,2020)"
   ]
  },
  {
   "cell_type": "code",
   "execution_count": 23,
   "metadata": {},
   "outputs": [
    {
     "data": {
      "text/plain": [
       "'\\n#timing the functions for testing\\nstart=time.time()\\nfor i in range(1000):\\n    day_inc([2020,3,31],1)\\nend=time.time()\\nprint(\"Time taken inc\",end-start)\\nstart=time.time()\\nfor i in range(1000):\\n    day_dec([2020,3,31],1)\\nend=time.time()\\nprint(\"Time taken dec\",end-start)\\n'"
      ]
     },
     "execution_count": 23,
     "metadata": {},
     "output_type": "execute_result"
    }
   ],
   "source": [
    "#function to increment a date by a number of days\n",
    "def day_inc(start_date,days):\n",
    "    m_days_left=month_days(start_date[1],start_date[0])-start_date[2]\n",
    "    if m_days_left<days:\n",
    "        start_date[1]+=1\n",
    "        start_date[2]=1\n",
    "        days-=m_days_left+1\n",
    "        if(start_date[1]>12):\n",
    "            start_date[0]+=1\n",
    "            start_date[1]=1\n",
    "        return day_inc(start_date,days)\n",
    "    else:\n",
    "        start_date[2]+=days\n",
    "        days=0\n",
    "    #final date or end date is returned below\n",
    "    return start_date\n",
    "#function to decrement a date by a number of days\n",
    "def day_dec(start_date,days):\n",
    "    if(start_date[2]<=days):\n",
    "        days-=start_date[2]\n",
    "        if(start_date[1]>1):\n",
    "            start_date[1]-=1\n",
    "        else:\n",
    "            start_date[1]=12\n",
    "            start_date[0]-=1\n",
    "        start_date[2]=month_days(start_date[1],start_date[0])\n",
    "        return day_dec(start_date,days)\n",
    "    else:\n",
    "        start_date[2]-=days\n",
    "    return start_date\n",
    "#day_dec([2020,3,31],32)\n",
    "'''\n",
    "#timing the functions for testing\n",
    "start=time.time()\n",
    "for i in range(1000):\n",
    "    day_inc([2020,3,31],1)\n",
    "end=time.time()\n",
    "print(\"Time taken inc\",end-start)\n",
    "start=time.time()\n",
    "for i in range(1000):\n",
    "    day_dec([2020,3,31],1)\n",
    "end=time.time()\n",
    "print(\"Time taken dec\",end-start)\n",
    "'''"
   ]
  },
  {
   "cell_type": "code",
   "execution_count": 24,
   "metadata": {},
   "outputs": [],
   "source": [
    "#makes a list of hospitals to help with file handling\n",
    "def hospital_list(n):\n",
    "    arr=[]\n",
    "    for i in range(n):\n",
    "        arr.append(\"./Hospitals/hospital_\"+str(i+1))\n",
    "    return arr"
   ]
  },
  {
   "cell_type": "code",
   "execution_count": 25,
   "metadata": {},
   "outputs": [],
   "source": [
    "def hosp_cap(hospital):\n",
    "    file=open(hospital,'r')\n",
    "    hos_cap=file.readline().split()\n",
    "    hos_cap=int(hos_cap[-1])\n",
    "    file.close()\n",
    "    return hos_cap\n",
    "def hospital_analysis(hospital):\n",
    "    '''\n",
    "    file=open(hospital,'r')\n",
    "    hos_cap=file.readline().split()\n",
    "    hos_cap=int(hos_cap[-1])\n",
    "    file.close()\n",
    "    print(\"Hospital capacity of: \",hospital,\":- \",hos_cap)'''\n",
    "    file_list = np.genfromtxt(hospital,delimiter=\" \",dtype=( int,\"|U12\", int, int,\"|U200\"),comments='#')\n",
    "    #pat mod list is a dictionary with dates and number of [admissions,releases] per day in a list as value for keys\n",
    "    pat_mod_list={}\n",
    "    current_occupancy=0\n",
    "    dead_monthly=0\n",
    "    healed_monthly=0\n",
    "    prev_date=''\n",
    "    curr_date=''\n",
    "    i=-1\n",
    "    start=0\n",
    "    iter_date=[]\n",
    "    for ele in file_list:\n",
    "        curr_date=ele[1]\n",
    "        if(start==0):\n",
    "            iter_date=curr_date\n",
    "            start=1\n",
    "        if(curr_date!=prev_date):\n",
    "            pat_mod_list[curr_date]=[1,0,0,0]\n",
    "            prev_date=curr_date\n",
    "            i+=1\n",
    "        else:\n",
    "            pat_mod_list[curr_date][0]+=1\n",
    "        if(ele[3]==1):\n",
    "            dead_monthly+=1\n",
    "        elif(ele[3]==0):\n",
    "            healed_monthly+=1\n",
    "        elif(ele[3]==-1):\n",
    "            current_occupancy+=1\n",
    "    for ele in file_list:\n",
    "        curr_date=ele[1]\n",
    "        release_date=\"%d-%d-%d\"%tuple(day_inc(list(map(int,curr_date.split(\"-\"))),ele[2]))\n",
    "        #adding people who are released or dead only to the releases\n",
    "        if(ele[3]!=-1):\n",
    "            if(ele[3]==1):\n",
    "                #dead\n",
    "                pat_mod_list[release_date][1]+=1\n",
    "            else:\n",
    "                #recovered\n",
    "                pat_mod_list[release_date][2]+=1\n",
    "    pat_mod_len=len(pat_mod_list)\n",
    "    curr_pat_num=0\n",
    "    for i in range(pat_mod_len):\n",
    "        #updating with new admissions-dead-recovered\n",
    "        curr_pat_num+=pat_mod_list[iter_date][0]-pat_mod_list[iter_date][1]-pat_mod_list[iter_date][2]\n",
    "        pat_mod_list[iter_date][3]=curr_pat_num\n",
    "        #incrementing date below\n",
    "        iter_date=\"%d-%d-%d\"%tuple(day_inc(list(map(int,iter_date.split(\"-\"))),1))\n",
    "    return pat_mod_list,dead_monthly,healed_monthly,current_occupancy\n",
    "\n",
    "for i in range(1,11):        \n",
    "    pat_admitted,dead_monthly,healed_monthly,current_occupancy=hospital_analysis(\"./Hospitals/hospital_%d.txt\"%i)\n",
    "    #print(\"Hospital %d\"%i)\n",
    "    #[print(key,value) for key, value in pat_admitted.items()]\n",
    "    #line below was for a list, now modified to a dictionary with list comprehension to print above\n",
    "    #print(*pat_admitted, sep= \"\\n\")"
   ]
  },
  {
   "cell_type": "code",
   "execution_count": 26,
   "metadata": {},
   "outputs": [],
   "source": [
    "#for fitting the exponential \n",
    "#the exponential is taken of the form y=a*e^(bx) where a and b are the fitting parameters\n",
    "#Least square fit can be done on this taking log y=loga+bx\n",
    "#x refers to number of days passed since first day of observation\n",
    "#y gives the number of patients newly admitted or those who have died\n",
    "#a is a related to initial number of patients\n",
    "#b is the significant parameter here which we need to find. \n",
    "#finding b will let us find the rate at which the disease is spreading and evaluate how dangerous it is\n",
    "#Here Matrix A is (1,x) which is used to find loga,b\n",
    "def least_square(A,b):\n",
    "    At=np.transpose(A)\n",
    "    AtAi=np.linalg.inv(np.dot(At,A))\n",
    "    return np.linalg.multi_dot([AtAi,At,b])"
   ]
  },
  {
   "cell_type": "code",
   "execution_count": 27,
   "metadata": {},
   "outputs": [],
   "source": [
    "#fitting specific to our cases\n",
    "#for y=a*m**x=a*e**(b*x)\n",
    "def leastsq_xy(xarr,yarr):\n",
    "    nyarr=[]\n",
    "    for ele in yarr:\n",
    "        if ele<0.01:\n",
    "            nyarr.append(math.log(0.01))\n",
    "        else:\n",
    "            nyarr.append(math.log(ele))\n",
    "    matA=np.column_stack(([1]*len(xarr),xarr))\n",
    "    arrb=np.asarray(nyarr)\n",
    "    soln=least_square(matA,arrb)\n",
    "    return math.exp(soln[1])"
   ]
  },
  {
   "cell_type": "code",
   "execution_count": 28,
   "metadata": {},
   "outputs": [],
   "source": [
    "#fitting algorithm has been taken from\n",
    "#http://www.davdata.nl/math/expfitting.html\n",
    "#please refer to the above page for the algorithm\n",
    "def biasexpfitting(xarr,yarr):\n",
    "    diffx = [] \n",
    "    cx=[]\n",
    "    for x, y in zip(xarr[0::], xarr[1::]): \n",
    "        diffx.append(y-x) \n",
    "        cx.append((x+y)/2.0)\n",
    "    #print(\"diffx\",diffx)\n",
    "    #print(\"cx\",cx)\n",
    "    diffy = [] \n",
    "    dq=[]\n",
    "    i=0\n",
    "    for x, y in zip(yarr[0::], yarr[1::]): \n",
    "        diffy.append(y-x) \n",
    "        dq.append(1.0*diffy[i]/diffx[i])\n",
    "        i+=1\n",
    "    #print(\"diffy\",diffy)\n",
    "    #print(\"dq\",dq)\n",
    "    b=[]\n",
    "    for x1,x2,y1,y2 in zip(cx[0::],cx[1::],dq[0::],dq[1::]):\n",
    "        if(y2*y1>0):\n",
    "            b.append(math.log(y2/y1)/(x2-x1))\n",
    "        else:\n",
    "            b.append(1)\n",
    "    #first approximation value\n",
    "    approxb=sum(b)/len(b)\n",
    "    a=[]\n",
    "    #print(\"approxb\",approxb)\n",
    "    #print(\"xarr\",xarr)\n",
    "    for x1,x2,y in zip(xarr[0::],xarr[1::],diffy[0:]):\n",
    "        denom=math.exp(approxb*x2)-math.exp(approxb*x1)\n",
    "        #print(math.exp(approxb*x2),\"and \",x2)\n",
    "        #print(math.exp(approxb*x1),\"and \",x1)\n",
    "        if denom==0:\n",
    "            #print(\"same x indices error\")\n",
    "            a.append(1)\n",
    "        else:\n",
    "            a.append(y/denom)\n",
    "    approxa=sum(a)/len(a)\n",
    "    c=[]\n",
    "    for x,y in zip(xarr[0::],yarr[0::]):\n",
    "        c.append(y-approxa*(math.exp(approxb*x)))\n",
    "    #print(\"carr\",c)\n",
    "    approxc=sum(c)/len(c)\n",
    "    ymod=[ele-approxc for ele in yarr]\n",
    "    return leastsq_xy(xarr,ymod)"
   ]
  },
  {
   "cell_type": "code",
   "execution_count": 29,
   "metadata": {},
   "outputs": [
    {
     "data": {
      "text/plain": [
       "'\\nnoise=8\\nbias=10\\nyarr=[int(round(bias+math.pow(1.5,i)-noise)+np.random.randint(0,2*noise)) for i in range(7)]\\nprint(yarr)\\nxarr=list(range(len(yarr)))\\n#print(xarr)\\nprint(biasexpfitting(xarr,yarr))\\n'"
      ]
     },
     "execution_count": 29,
     "metadata": {},
     "output_type": "execute_result"
    }
   ],
   "source": [
    "#Testing the fitting function\n",
    "'''\n",
    "noise=8\n",
    "bias=10\n",
    "yarr=[int(round(bias+math.pow(1.5,i)-noise)+np.random.randint(0,2*noise)) for i in range(7)]\n",
    "print(yarr)\n",
    "xarr=list(range(len(yarr)))\n",
    "#print(xarr)\n",
    "print(biasexpfitting(xarr,yarr))\n",
    "'''"
   ]
  },
  {
   "cell_type": "code",
   "execution_count": 30,
   "metadata": {},
   "outputs": [],
   "source": [
    "def Fitting_param_month(hospital):\n",
    "    pat_admitted,dead_monthly,healed_monthly,current_occupancy=hospital_analysis(hospital)\n",
    "    #to create a copy\n",
    "    admitted_curve=dict(pat_admitted)\n",
    "    for key,value in admitted_curve.items():\n",
    "        admitted_curve[key]=value[0]\n",
    "    #to create a copy\n",
    "    death_curve=dict(pat_admitted)\n",
    "    for key,value in death_curve.items():\n",
    "        death_curve[key]=value[1]\n",
    "    occupancy_curve=dict(pat_admitted)\n",
    "    for key,value in occupancy_curve.items():\n",
    "        occupancy_curve[key]=value[3]\n",
    "    #arr=list(death_curve.items())\n",
    "    #print(arr[-1][0])\n",
    "    #[print(key,value) for key, value in death_curve.items()]\n",
    "    #[print(key,value) for key, value in admitted_curve.items()]\n",
    "    return admitted_curve,death_curve,current_occupancy,occupancy_curve\n",
    "#print(Fitting_param_month(\"hospital_2.txt\"))"
   ]
  },
  {
   "cell_type": "code",
   "execution_count": 31,
   "metadata": {},
   "outputs": [
    {
     "data": {
      "text/plain": [
       "([2020, 4, 30], [2020, 4, 30], 1)"
      ]
     },
     "execution_count": 31,
     "metadata": {},
     "output_type": "execute_result"
    }
   ],
   "source": [
    "#function to get PC time and timezone time online\n",
    "def comp_online_time():\n",
    "    #getting computer date\n",
    "    d=datetime.datetime.now()\n",
    "    comp_date=[d.year,d.month,d.day]\n",
    "    #print(comp_date)\n",
    "    #getting online date below with exception handling for no internet\n",
    "    try:\n",
    "        res = urlopen('http://just-the-time.appspot.com/')\n",
    "        result = res.read().strip()\n",
    "        result_str = result.decode('utf-8')\n",
    "        time=result_str.split()\n",
    "        #UTC date is obtained from a google app service below which is then changed to Indian time\n",
    "        days_date=list(map(int,time[0].split('-')))\n",
    "        hour_time=list(map(int,time[1].split(':')))\n",
    "        if(hour_time[0]>=19 or (hour_time[0]>=18 and hour_time[1]>=30)):\n",
    "            days_date=day_inc(days_date,1)\n",
    "    except:\n",
    "        print(\"No Internet\")\n",
    "        print(\"Oops!\",sys.exc_info()[0],\"occured.\")\n",
    "        days_date=0\n",
    "    return days_date,comp_date\n",
    "#below function takes care of error rising from delay in calculating online and local date.\n",
    "def current_date():\n",
    "    flag=1\n",
    "    online,local=comp_online_time()\n",
    "    if(online!=local):\n",
    "        online,local=comp_online_time()\n",
    "        if(online!=local):\n",
    "            flag=0 \n",
    "    if not(online):\n",
    "        flag=-1\n",
    "    #returns current online synced date and whether local time is also matching 1 for matching 0 for mismatch\n",
    "    return online,local,flag\n",
    "current_date()"
   ]
  },
  {
   "cell_type": "code",
   "execution_count": 32,
   "metadata": {},
   "outputs": [],
   "source": [
    "#online date is the actual date and loc_date is the current date. \n",
    "#Data is taken till local date\n",
    "def exponential_param(hospital,file,loc_date):\n",
    "    file.write(\"ID: %s\\n\"%hospital)\n",
    "    cap_hospital=hosp_cap(\"./Hospitals/%s\"%hospital)\n",
    "    file.write(\"Cap: %d\\n\"%cap_hospital)\n",
    "    \n",
    "    #last date is excluded both to prevent errors and prevent incomplete data from coming in\n",
    "    three_months=day_dec(loc_date[:],92)\n",
    "    one_month=day_dec(loc_date[:],32)\n",
    "    one_week=day_dec(loc_date[:],9)\n",
    "    #print(three_months,one_month,one_week) \n",
    "    admitted_curve,death_curve,current_occupancy,occupancy_curve=Fitting_param_month(\"./Hospitals/%s\"%hospital)\n",
    "    thm_arr=[0]*90\n",
    "    onm_arr=[0]*30\n",
    "    onw_arr=[0]*7\n",
    "    #print(\"Keys\")\n",
    "    #print(admitted_curve.keys())\n",
    "    #getting log of no of patients in different periods for fitting and finding rise parameter\n",
    "    #and Doing least square fitting for each range of days\n",
    "    if(\"%d-%d-%d\"%tuple(three_months) in occupancy_curve.keys()):\n",
    "        for i in range(90):\n",
    "            thm_arr[i]=occupancy_curve[\"%d-%d-%d\"%tuple(three_months)]\n",
    "            three_months=day_inc(three_months,1)\n",
    "        #for 90 days\n",
    "        xarr=range(90)\n",
    "        thm_param=biasexpfitting(xarr,thm_arr)\n",
    "        file.write(\"3_m: %f\\n\"%thm_param)\n",
    "        #print(\"Three month\",list(map(math.exp,thm_arr)))\n",
    "    if(\"%d-%d-%d\"%tuple(one_month) in occupancy_curve.keys()):\n",
    "        for i in range(30):\n",
    "            onm_arr[i]=occupancy_curve[\"%d-%d-%d\"%tuple(one_month)]\n",
    "            one_month=day_inc(one_month,1)\n",
    "        #for 30 days\n",
    "        xarr=range(30)\n",
    "        onm_param=biasexpfitting(xarr,onm_arr)\n",
    "        file.write(\"1_m: %f\\n\"%onm_param)\n",
    "        #print(\"One month\",list(map(math.exp,onm_arr)))\n",
    "    if(\"%d-%d-%d\"%tuple(one_week) in occupancy_curve.keys()):\n",
    "        for i in range(7):\n",
    "            onw_arr[i]=occupancy_curve[\"%d-%d-%d\"%tuple(one_week)]\n",
    "            one_week=day_inc(one_week,1)\n",
    "        #print(\"oneweek\",onw_arr)\n",
    "        #for 7 days\n",
    "        xarr=range(7)\n",
    "        onw_param=biasexpfitting(xarr,onw_arr)\n",
    "        #print(\"One week\",onw_param)\n",
    "        file.write(\"1_w: %f\\n\"%onw_param)\n",
    "        #print(\"One week\",list(map(math.exp,onw_arr)))\n",
    "    #file.write(\"Curr_occ: %d\\n\"%current_occupancy)\n",
    "    file.write(\"Curr_occ_percent: %d\\n\"%(100.0*current_occupancy/cap_hospital))"
   ]
  },
  {
   "cell_type": "code",
   "execution_count": 33,
   "metadata": {},
   "outputs": [
    {
     "data": {
      "text/plain": [
       "'\\ntestarr=[6, 1, 3, 4, 14, 33, 72]\\nminval=min(testarr)\\ntestarr=[ele-minval+1 for ele in testarr]\\nprint(testarr)\\nonw_arr=[]\\nfor i in range(7):\\n    onw_arr.append(math.log(testarr[i]))\\niters=range(1,8)\\nmatA=np.column_stack(([1]*len(iters),iters))\\narrb=np.asarray(onw_arr)\\nsoln=least_square(matA,arrb)\\nprint(math.exp(soln[1]))\\n'"
      ]
     },
     "execution_count": 33,
     "metadata": {},
     "output_type": "execute_result"
    }
   ],
   "source": [
    "#Testing if the algorithm works and detects increases properly\n",
    "'''\n",
    "testarr=[6, 1, 3, 4, 14, 33, 72]\n",
    "minval=min(testarr)\n",
    "testarr=[ele-minval+1 for ele in testarr]\n",
    "print(testarr)\n",
    "onw_arr=[]\n",
    "for i in range(7):\n",
    "    onw_arr.append(math.log(testarr[i]))\n",
    "iters=range(1,8)\n",
    "matA=np.column_stack(([1]*len(iters),iters))\n",
    "arrb=np.asarray(onw_arr)\n",
    "soln=least_square(matA,arrb)\n",
    "print(math.exp(soln[1]))\n",
    "'''"
   ]
  },
  {
   "cell_type": "code",
   "execution_count": 34,
   "metadata": {},
   "outputs": [],
   "source": [
    "#compiles date for the given number of hospitals\n",
    "def compile_data(num_hosp):\n",
    "    #online date is the actual date and loc_date is the current date. \n",
    "    #Data is taken till local date\n",
    "    #online data is to verify integrity of data and prevent unexpected data loss\n",
    "    #if you want to do this to a custom date change loc_date\n",
    "    on_date,loc_date,flag=current_date()\n",
    "    if (flag==0):\n",
    "        print(\"Time is not synced with the Internet properly. Please do that\")\n",
    "    if(flag==-1):\n",
    "        print(\"Not connected to Internet. Connection is required for syncing\")\n",
    "    #verifying local date commented below\n",
    "    #print(\"loc\",loc_date)\n",
    "    main_file=open('Compiled.txt','w')\n",
    "    for it in range(num_hosp):\n",
    "        exponential_param(\"hospital_%d.txt\"%(it+1),main_file,loc_date)\n",
    "    main_file.close()\n",
    "    print(\"Done\")"
   ]
  },
  {
   "cell_type": "code",
   "execution_count": 36,
   "metadata": {},
   "outputs": [
    {
     "name": "stdout",
     "output_type": "stream",
     "text": [
      "Done\n"
     ]
    }
   ],
   "source": [
    "compile_data(62)\n",
    "#here the number must match the number of entities being simulated \n",
    "#as set in previous file to make sure data is accurate"
   ]
  },
  {
   "cell_type": "code",
   "execution_count": null,
   "metadata": {},
   "outputs": [],
   "source": []
  },
  {
   "cell_type": "code",
   "execution_count": null,
   "metadata": {},
   "outputs": [],
   "source": []
  },
  {
   "cell_type": "code",
   "execution_count": null,
   "metadata": {},
   "outputs": [],
   "source": []
  },
  {
   "cell_type": "code",
   "execution_count": null,
   "metadata": {},
   "outputs": [],
   "source": []
  }
 ],
 "metadata": {
  "kernelspec": {
   "display_name": "Python 3",
   "language": "python",
   "name": "python3"
  },
  "language_info": {
   "codemirror_mode": {
    "name": "ipython",
    "version": 3
   },
   "file_extension": ".py",
   "mimetype": "text/x-python",
   "name": "python",
   "nbconvert_exporter": "python",
   "pygments_lexer": "ipython3",
   "version": "3.7.3"
  }
 },
 "nbformat": 4,
 "nbformat_minor": 2
}
